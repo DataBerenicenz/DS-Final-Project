{
 "cells": [
  {
   "cell_type": "code",
   "execution_count": 1,
   "metadata": {
    "ExecuteTime": {
     "end_time": "2021-03-12T00:16:22.483775Z",
     "start_time": "2021-03-12T00:16:22.460469Z"
    }
   },
   "outputs": [
    {
     "ename": "ModuleNotFoundError",
     "evalue": "No module named 'sklearn'",
     "output_type": "error",
     "traceback": [
      "\u001b[1;31m---------------------------------------------------------------------------\u001b[0m",
      "\u001b[1;31mModuleNotFoundError\u001b[0m                       Traceback (most recent call last)",
      "\u001b[1;32m<ipython-input-1-93dd81c32968>\u001b[0m in \u001b[0;36m<module>\u001b[1;34m\u001b[0m\n\u001b[0;32m      9\u001b[0m \u001b[1;32mfrom\u001b[0m \u001b[0mIPython\u001b[0m \u001b[1;32mimport\u001b[0m \u001b[0mutils\u001b[0m\u001b[1;33m\u001b[0m\u001b[1;33m\u001b[0m\u001b[0m\n\u001b[0;32m     10\u001b[0m \u001b[0mmpl\u001b[0m\u001b[1;33m.\u001b[0m\u001b[0mstyle\u001b[0m\u001b[1;33m.\u001b[0m\u001b[0muse\u001b[0m\u001b[1;33m(\u001b[0m\u001b[1;34m'seaborn'\u001b[0m\u001b[1;33m)\u001b[0m\u001b[1;33m\u001b[0m\u001b[1;33m\u001b[0m\u001b[0m\n\u001b[1;32m---> 11\u001b[1;33m \u001b[1;32mfrom\u001b[0m \u001b[0msklearn\u001b[0m\u001b[1;33m.\u001b[0m\u001b[0mensemble\u001b[0m \u001b[1;32mimport\u001b[0m \u001b[0mRandomForestClassifier\u001b[0m\u001b[1;33m\u001b[0m\u001b[1;33m\u001b[0m\u001b[0m\n\u001b[0m",
      "\u001b[1;31mModuleNotFoundError\u001b[0m: No module named 'sklearn'"
     ]
    }
   ],
   "source": [
    "\n",
    "import seaborn as sns\n",
    "import pandas as pd\n",
    "import numpy as np\n",
    "import matplotlib as mpl\n",
    "import matplotlib.pyplot as plt\n",
    "import ipywidgets as widgets\n",
    "from ipywidgets import interact, interact_manual, Layout\n",
    "from IPython.display import Markdown, display, HTML\n",
    "from IPython import utils\n",
    "mpl.style.use('seaborn')\n",
    "from sklearn.ensemble import RandomForestClassifier"
   ]
  },
  {
   "cell_type": "code",
   "execution_count": null,
   "metadata": {
    "ExecuteTime": {
     "end_time": "2021-03-13T01:30:35.944432Z",
     "start_time": "2021-03-13T01:30:34.510342Z"
    }
   },
   "outputs": [],
   "source": [
    "df = pd.read_csv('mexico_clean_data.csv')\n",
    "df.set_index('ID_REGISTRO', inplace=True)\n",
    "print(df.shape)\n",
    "df.head(100)"
   ]
  },
  {
   "cell_type": "code",
   "execution_count": null,
   "metadata": {},
   "outputs": [],
   "source": [
    "df=df.reset_index()"
   ]
  },
  {
   "cell_type": "code",
   "execution_count": null,
   "metadata": {},
   "outputs": [],
   "source": [
    "df"
   ]
  },
  {
   "cell_type": "code",
   "execution_count": null,
   "metadata": {
    "ExecuteTime": {
     "end_time": "2021-03-13T01:48:54.069291Z",
     "start_time": "2021-03-13T01:48:51.715293Z"
    }
   },
   "outputs": [],
   "source": [
    "si_no = {\n",
    "    1: 1,\n",
    "    2: 0,\n",
    "    97: None,\n",
    "    98: None,\n",
    "    99: None\n",
    "}\n",
    "conversions= {\n",
    "    'SEXO': {\n",
    "        1: 'MUJER',\n",
    "        2: 'HOMBRE',\n",
    "        3: 'NA'\n",
    "    }, \n",
    "    'INTUBADO': si_no,\n",
    "    'NEUMONIA': si_no,\n",
    "    'EMBARAZO': si_no,\n",
    "    'DIABETES': si_no,\n",
    "    'EPOC': si_no,\n",
    "    'ASMA': si_no,\n",
    "    'INMUSUPR': si_no,\n",
    "    'HIPERTENSION': si_no,\n",
    "    'CARDIOVASCULAR': si_no,\n",
    "    'OBESIDAD': si_no,\n",
    "    'RENAL_CRONICA': si_no,\n",
    "    'TABAQUISMO': si_no\n",
    "}\n",
    "\n",
    "dt = df.copy()\n",
    "for k,v in conversions.items():\n",
    "    dt[k] = dt[k].replace(v)\n",
    "    \n",
    "dt = dt.drop(columns=['EDAD', 'ENTIDAD_NAC'])\n",
    "dt.head()"
   ]
  },
  {
   "cell_type": "code",
   "execution_count": null,
   "metadata": {
    "ExecuteTime": {
     "end_time": "2021-03-13T01:48:59.304047Z",
     "start_time": "2021-03-13T01:48:58.584241Z"
    }
   },
   "outputs": [],
   "source": [
    "# Remove NaNs. Will lose less than 3% of the data\n",
    "dt = dt.dropna()\n",
    "dt.head()\n",
    "# Will remove nans for now to avoid unnecessary complexity on the model. Could consider including them in the future"
   ]
  },
  {
   "cell_type": "code",
   "execution_count": null,
   "metadata": {
    "ExecuteTime": {
     "end_time": "2021-03-13T01:50:45.646241Z",
     "start_time": "2021-03-13T01:50:45.090455Z"
    }
   },
   "outputs": [],
   "source": [
    "# Convert columns to binary\n",
    "for col in dt:\n",
    "    if len(dt[col].unique()) == 2 and dt[col].dtype != object:\n",
    "        dt[col] = dt[col].astype(np.int0)\n",
    "cols = ['INTUBADO','NEUMONIA','EMBARAZO']\n",
    "for col in cols:\n",
    "    dt[col] = dt[col].astype(np.int0)"
   ]
  },
  {
   "cell_type": "code",
   "execution_count": null,
   "metadata": {
    "ExecuteTime": {
     "end_time": "2021-03-13T05:42:57.737836Z",
     "start_time": "2021-03-13T05:42:57.504662Z"
    }
   },
   "outputs": [],
   "source": [
    "# Encode categorical features\n",
    "dd = pd.get_dummies(dt)\n",
    "dd.head()"
   ]
  },
  {
   "cell_type": "code",
   "execution_count": null,
   "metadata": {
    "ExecuteTime": {
     "end_time": "2021-03-13T05:43:59.758995Z",
     "start_time": "2021-03-13T05:43:59.674678Z"
    }
   },
   "outputs": [],
   "source": [
    "# Check dataset balance\n",
    "display(dd.groupby('INTUBADO').size(),\n",
    "dd.groupby('NEUMONIA').size())"
   ]
  },
  {
   "cell_type": "code",
   "execution_count": null,
   "metadata": {},
   "outputs": [],
   "source": [
    "target = dd[\"INTUBADO\"]\n",
    "target_names = [\"negative\", \"positive\"]"
   ]
  },
  {
   "cell_type": "code",
   "execution_count": null,
   "metadata": {
    "ExecuteTime": {
     "end_time": "2021-03-13T06:21:17.190470Z",
     "start_time": "2021-03-13T06:21:16.929761Z"
    }
   },
   "outputs": [],
   "source": [
    "data = dd.drop([\"INTUBADO\",\"NEUMONIA\",\"ID_REGISTRO\"], axis=1)\n",
    "feature_names = data.columns\n",
    "data.head()"
   ]
  },
  {
   "cell_type": "code",
   "execution_count": null,
   "metadata": {},
   "outputs": [],
   "source": [
    "from sklearn.model_selection import train_test_split\n",
    "X_train, X_test, y_train, y_test = train_test_split(data, target, random_state=42)"
   ]
  },
  {
   "cell_type": "code",
   "execution_count": null,
   "metadata": {
    "ExecuteTime": {
     "end_time": "2021-03-13T06:21:17.904419Z",
     "start_time": "2021-03-13T06:21:17.193334Z"
    }
   },
   "outputs": [],
   "source": [
    "# Create a random forest classifier\n",
    "rf = RandomForestClassifier(n_estimators=200)\n",
    "rf = rf.fit(X_train, y_train)\n",
    "rf.score(X_test, y_test)"
   ]
  },
  {
   "cell_type": "code",
   "execution_count": null,
   "metadata": {
    "ExecuteTime": {
     "end_time": "2021-03-13T06:21:17.920561Z",
     "start_time": "2021-03-13T06:21:17.906387Z"
    }
   },
   "outputs": [],
   "source": [
    "sorted(zip(rf.feature_importances_, feature_names),reverse=True)"
   ]
  },
  {
   "cell_type": "code",
   "execution_count": null,
   "metadata": {},
   "outputs": [],
   "source": [
    "# Calculate the mean_squared_error and the r-squared value\n",
    "# for the testing data\n",
    "\n",
    "from sklearn.metrics import mean_squared_error, r2_score\n",
    "\n",
    "### BEGIN SOLUTION\n",
    "\n",
    "# Use our model to make predictions\n",
    "predicted = rf.predict(X_test)\n",
    "\n",
    "# Score the predictions with mse and r2\n",
    "mse = mean_squared_error(y_test, predicted)\n",
    "r2 = r2_score(y_test, predicted)\n",
    "\n",
    "print(f\"Mean Squared Error (MSE): {mse}\")\n",
    "print(f\"R-squared (R2 ): {r2}\")\n",
    "\n",
    "### END SOLUTION"
   ]
  },
  {
   "cell_type": "code",
   "execution_count": null,
   "metadata": {},
   "outputs": [],
   "source": [
    "X_train[1093a5]"
   ]
  },
  {
   "cell_type": "code",
   "execution_count": null,
   "metadata": {},
   "outputs": [],
   "source": []
  }
 ],
 "metadata": {
  "kernelspec": {
   "display_name": "Python 3",
   "language": "python",
   "name": "python3"
  },
  "language_info": {
   "codemirror_mode": {
    "name": "ipython",
    "version": 3
   },
   "file_extension": ".py",
   "mimetype": "text/x-python",
   "name": "python",
   "nbconvert_exporter": "python",
   "pygments_lexer": "ipython3",
   "version": "3.8.3"
  },
  "toc": {
   "base_numbering": 1,
   "nav_menu": {},
   "number_sections": true,
   "sideBar": true,
   "skip_h1_title": false,
   "title_cell": "Table of Contents",
   "title_sidebar": "Contents",
   "toc_cell": false,
   "toc_position": {},
   "toc_section_display": true,
   "toc_window_display": false
  }
 },
 "nbformat": 4,
 "nbformat_minor": 2
}
